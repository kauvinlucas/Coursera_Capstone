{
 "metadata": {
  "language_info": {
   "codemirror_mode": {
    "name": "ipython",
    "version": 3
   },
   "file_extension": ".py",
   "mimetype": "text/x-python",
   "name": "python",
   "nbconvert_exporter": "python",
   "pygments_lexer": "ipython3",
   "version": "3.8.1-final"
  },
  "orig_nbformat": 2,
  "kernelspec": {
   "name": "python_defaultSpec_1599087622970",
   "display_name": "Python 3.8.1 32-bit"
  }
 },
 "nbformat": 4,
 "nbformat_minor": 2,
 "cells": [
  {
   "cell_type": "markdown",
   "metadata": {},
   "source": [
    "# Coursera_Capstone\n",
    "\n",
    "#### What's this notebook for?\n",
    "The Python code used for this project will be shown here, along with the description of each each taken to better understand what, how and why each step is taken.\n",
    "\n",
    "#### What is the goal of the project?\n",
    "This project has the goal to make accurate predictions about car accidents in Seattle, Washington, US. It will be achieved by using data science methodology and machine learning models to the data of accidents occurring in the city of Seattle from 2004 to 2020.\n",
    "\n",
    "#### Who is the target audience of this project?\n",
    "This project will be the main submission item for the Applied Data Science Project in the IBM Data Science Professional Certificate in Coursera by IBM Developer. But due to the practical approaches of the model, it can also be applied by Car insurance companies, healthcare companies and governments institutions."
   ]
  },
  {
   "cell_type": "code",
   "execution_count": 1,
   "metadata": {
    "tags": []
   },
   "outputs": [
    {
     "output_type": "stream",
     "name": "stdout",
     "text": "Hello Capstone Project Course!\n"
    }
   ],
   "source": [
    "import pandas as np\n",
    "import numpy as np\n",
    "\n",
    "print(\"Hello Capstone Project Course!\")"
   ]
  }
 ]
}